{
 "cells": [
  {
   "cell_type": "code",
   "execution_count": 1,
   "metadata": {
    "collapsed": false
   },
   "outputs": [],
   "source": [
    "import pandas as pd\n",
    "import os\n",
    "import json\n",
    "import requests\n",
    "import numpy as np\n",
    "import matplotlib.pyplot as plt"
   ]
  },
  {
   "cell_type": "code",
   "execution_count": 2,
   "metadata": {
    "collapsed": false
   },
   "outputs": [],
   "source": [
    "Seattle = pd.read_csv(\"Seattle.csv\")"
   ]
  },
  {
   "cell_type": "code",
   "execution_count": 3,
   "metadata": {
    "collapsed": false
   },
   "outputs": [
    {
     "data": {
      "text/html": [
       "<div>\n",
       "<style>\n",
       "    .dataframe thead tr:only-child th {\n",
       "        text-align: right;\n",
       "    }\n",
       "\n",
       "    .dataframe thead th {\n",
       "        text-align: left;\n",
       "    }\n",
       "\n",
       "    .dataframe tbody tr th {\n",
       "        vertical-align: top;\n",
       "    }\n",
       "</style>\n",
       "<table border=\"1\" class=\"dataframe\">\n",
       "  <thead>\n",
       "    <tr style=\"text-align: right;\">\n",
       "      <th></th>\n",
       "      <th>INDUSTRY</th>\n",
       "      <th>2015Number</th>\n",
       "      <th>2015Percent</th>\n",
       "      <th>2000Number</th>\n",
       "      <th>2000Percent</th>\n",
       "      <th>Unnamed: 5</th>\n",
       "    </tr>\n",
       "  </thead>\n",
       "  <tbody>\n",
       "    <tr>\n",
       "      <th>0</th>\n",
       "      <td>Agriculture, forestry, fishing and hunting, an...</td>\n",
       "      <td>1,642</td>\n",
       "      <td>0.40%</td>\n",
       "      <td>1,103</td>\n",
       "      <td>0.3</td>\n",
       "      <td>NaN</td>\n",
       "    </tr>\n",
       "    <tr>\n",
       "      <th>1</th>\n",
       "      <td>Construction</td>\n",
       "      <td>11,438</td>\n",
       "      <td>3.00%</td>\n",
       "      <td>12,892</td>\n",
       "      <td>4.0</td>\n",
       "      <td>NaN</td>\n",
       "    </tr>\n",
       "    <tr>\n",
       "      <th>2</th>\n",
       "      <td>Manufacturing</td>\n",
       "      <td>25,962</td>\n",
       "      <td>6.80%</td>\n",
       "      <td>26,753</td>\n",
       "      <td>8.3</td>\n",
       "      <td>NaN</td>\n",
       "    </tr>\n",
       "    <tr>\n",
       "      <th>3</th>\n",
       "      <td>Wholesale trade</td>\n",
       "      <td>7,432</td>\n",
       "      <td>1.90%</td>\n",
       "      <td>10,471</td>\n",
       "      <td>3.3</td>\n",
       "      <td>NaN</td>\n",
       "    </tr>\n",
       "    <tr>\n",
       "      <th>4</th>\n",
       "      <td>Retail trade</td>\n",
       "      <td>44,417</td>\n",
       "      <td>11.60%</td>\n",
       "      <td>35,645</td>\n",
       "      <td>11.1</td>\n",
       "      <td>NaN</td>\n",
       "    </tr>\n",
       "    <tr>\n",
       "      <th>5</th>\n",
       "      <td>Transportation and warehousing, and utilities</td>\n",
       "      <td>12,049</td>\n",
       "      <td>3.10%</td>\n",
       "      <td>13,492</td>\n",
       "      <td>4.2</td>\n",
       "      <td>NaN</td>\n",
       "    </tr>\n",
       "    <tr>\n",
       "      <th>6</th>\n",
       "      <td>Information</td>\n",
       "      <td>14,829</td>\n",
       "      <td>3.90%</td>\n",
       "      <td>19,175</td>\n",
       "      <td>6.0</td>\n",
       "      <td>NaN</td>\n",
       "    </tr>\n",
       "    <tr>\n",
       "      <th>7</th>\n",
       "      <td>Finance and insurance, and real estate and ren...</td>\n",
       "      <td>22,457</td>\n",
       "      <td>5.90%</td>\n",
       "      <td>22,171</td>\n",
       "      <td>6.9</td>\n",
       "      <td>NaN</td>\n",
       "    </tr>\n",
       "    <tr>\n",
       "      <th>8</th>\n",
       "      <td>Professional, scientific, and management, and ...</td>\n",
       "      <td>77,245</td>\n",
       "      <td>20.20%</td>\n",
       "      <td>51,813</td>\n",
       "      <td>16.1</td>\n",
       "      <td>NaN</td>\n",
       "    </tr>\n",
       "    <tr>\n",
       "      <th>9</th>\n",
       "      <td>Educational services, and health care and soci...</td>\n",
       "      <td>89,398</td>\n",
       "      <td>23.40%</td>\n",
       "      <td>69,507</td>\n",
       "      <td>21.6</td>\n",
       "      <td>NaN</td>\n",
       "    </tr>\n",
       "    <tr>\n",
       "      <th>10</th>\n",
       "      <td>Arts, entertainment, and recreation, and accom...</td>\n",
       "      <td>43,958</td>\n",
       "      <td>11.50%</td>\n",
       "      <td>31,762</td>\n",
       "      <td>9.9</td>\n",
       "      <td>NaN</td>\n",
       "    </tr>\n",
       "    <tr>\n",
       "      <th>11</th>\n",
       "      <td>Other services, except public administration</td>\n",
       "      <td>19,256</td>\n",
       "      <td>5.00%</td>\n",
       "      <td>15,538</td>\n",
       "      <td>4.8</td>\n",
       "      <td>NaN</td>\n",
       "    </tr>\n",
       "    <tr>\n",
       "      <th>12</th>\n",
       "      <td>Public administration</td>\n",
       "      <td>12,436</td>\n",
       "      <td>3.30%</td>\n",
       "      <td>11,202</td>\n",
       "      <td>3.5</td>\n",
       "      <td>NaN</td>\n",
       "    </tr>\n",
       "  </tbody>\n",
       "</table>\n",
       "</div>"
      ],
      "text/plain": [
       "                                             INDUSTRY 2015Number 2015Percent  \\\n",
       "0   Agriculture, forestry, fishing and hunting, an...      1,642       0.40%   \n",
       "1                                        Construction     11,438       3.00%   \n",
       "2                                       Manufacturing     25,962       6.80%   \n",
       "3                                     Wholesale trade      7,432       1.90%   \n",
       "4                                        Retail trade     44,417      11.60%   \n",
       "5       Transportation and warehousing, and utilities     12,049       3.10%   \n",
       "6                                         Information     14,829       3.90%   \n",
       "7   Finance and insurance, and real estate and ren...     22,457       5.90%   \n",
       "8   Professional, scientific, and management, and ...     77,245      20.20%   \n",
       "9   Educational services, and health care and soci...     89,398      23.40%   \n",
       "10  Arts, entertainment, and recreation, and accom...     43,958      11.50%   \n",
       "11       Other services, except public administration     19,256       5.00%   \n",
       "12                              Public administration     12,436       3.30%   \n",
       "\n",
       "   2000Number  2000Percent  Unnamed: 5  \n",
       "0       1,103          0.3         NaN  \n",
       "1      12,892          4.0         NaN  \n",
       "2      26,753          8.3         NaN  \n",
       "3      10,471          3.3         NaN  \n",
       "4      35,645         11.1         NaN  \n",
       "5      13,492          4.2         NaN  \n",
       "6      19,175          6.0         NaN  \n",
       "7      22,171          6.9         NaN  \n",
       "8      51,813         16.1         NaN  \n",
       "9      69,507         21.6         NaN  \n",
       "10     31,762          9.9         NaN  \n",
       "11     15,538          4.8         NaN  \n",
       "12     11,202          3.5         NaN  "
      ]
     },
     "execution_count": 3,
     "metadata": {},
     "output_type": "execute_result"
    }
   ],
   "source": [
    "Seattle"
   ]
  },
  {
   "cell_type": "code",
   "execution_count": 4,
   "metadata": {
    "collapsed": false
   },
   "outputs": [],
   "source": [
    "Seattle['15num'] = Seattle['2015Number'].str.replace(\",\", \"\").astype(float)"
   ]
  },
  {
   "cell_type": "code",
   "execution_count": 5,
   "metadata": {
    "collapsed": false
   },
   "outputs": [],
   "source": [
    "Seattle['00num'] = Seattle['2000Number'].str.replace(\",\", \"\").astype(float)"
   ]
  },
  {
   "cell_type": "code",
   "execution_count": 6,
   "metadata": {
    "collapsed": false
   },
   "outputs": [
    {
     "data": {
      "text/html": [
       "<div>\n",
       "<style>\n",
       "    .dataframe thead tr:only-child th {\n",
       "        text-align: right;\n",
       "    }\n",
       "\n",
       "    .dataframe thead th {\n",
       "        text-align: left;\n",
       "    }\n",
       "\n",
       "    .dataframe tbody tr th {\n",
       "        vertical-align: top;\n",
       "    }\n",
       "</style>\n",
       "<table border=\"1\" class=\"dataframe\">\n",
       "  <thead>\n",
       "    <tr style=\"text-align: right;\">\n",
       "      <th></th>\n",
       "      <th>INDUSTRY</th>\n",
       "      <th>2015Number</th>\n",
       "      <th>2015Percent</th>\n",
       "      <th>2000Number</th>\n",
       "      <th>2000Percent</th>\n",
       "      <th>Unnamed: 5</th>\n",
       "      <th>15num</th>\n",
       "      <th>00num</th>\n",
       "    </tr>\n",
       "  </thead>\n",
       "  <tbody>\n",
       "    <tr>\n",
       "      <th>0</th>\n",
       "      <td>Agriculture, forestry, fishing and hunting, an...</td>\n",
       "      <td>1,642</td>\n",
       "      <td>0.40%</td>\n",
       "      <td>1,103</td>\n",
       "      <td>0.3</td>\n",
       "      <td>NaN</td>\n",
       "      <td>1642.0</td>\n",
       "      <td>1103.0</td>\n",
       "    </tr>\n",
       "    <tr>\n",
       "      <th>1</th>\n",
       "      <td>Construction</td>\n",
       "      <td>11,438</td>\n",
       "      <td>3.00%</td>\n",
       "      <td>12,892</td>\n",
       "      <td>4.0</td>\n",
       "      <td>NaN</td>\n",
       "      <td>11438.0</td>\n",
       "      <td>12892.0</td>\n",
       "    </tr>\n",
       "    <tr>\n",
       "      <th>2</th>\n",
       "      <td>Manufacturing</td>\n",
       "      <td>25,962</td>\n",
       "      <td>6.80%</td>\n",
       "      <td>26,753</td>\n",
       "      <td>8.3</td>\n",
       "      <td>NaN</td>\n",
       "      <td>25962.0</td>\n",
       "      <td>26753.0</td>\n",
       "    </tr>\n",
       "    <tr>\n",
       "      <th>3</th>\n",
       "      <td>Wholesale trade</td>\n",
       "      <td>7,432</td>\n",
       "      <td>1.90%</td>\n",
       "      <td>10,471</td>\n",
       "      <td>3.3</td>\n",
       "      <td>NaN</td>\n",
       "      <td>7432.0</td>\n",
       "      <td>10471.0</td>\n",
       "    </tr>\n",
       "    <tr>\n",
       "      <th>4</th>\n",
       "      <td>Retail trade</td>\n",
       "      <td>44,417</td>\n",
       "      <td>11.60%</td>\n",
       "      <td>35,645</td>\n",
       "      <td>11.1</td>\n",
       "      <td>NaN</td>\n",
       "      <td>44417.0</td>\n",
       "      <td>35645.0</td>\n",
       "    </tr>\n",
       "    <tr>\n",
       "      <th>5</th>\n",
       "      <td>Transportation and warehousing, and utilities</td>\n",
       "      <td>12,049</td>\n",
       "      <td>3.10%</td>\n",
       "      <td>13,492</td>\n",
       "      <td>4.2</td>\n",
       "      <td>NaN</td>\n",
       "      <td>12049.0</td>\n",
       "      <td>13492.0</td>\n",
       "    </tr>\n",
       "    <tr>\n",
       "      <th>6</th>\n",
       "      <td>Information</td>\n",
       "      <td>14,829</td>\n",
       "      <td>3.90%</td>\n",
       "      <td>19,175</td>\n",
       "      <td>6.0</td>\n",
       "      <td>NaN</td>\n",
       "      <td>14829.0</td>\n",
       "      <td>19175.0</td>\n",
       "    </tr>\n",
       "    <tr>\n",
       "      <th>7</th>\n",
       "      <td>Finance and insurance, and real estate and ren...</td>\n",
       "      <td>22,457</td>\n",
       "      <td>5.90%</td>\n",
       "      <td>22,171</td>\n",
       "      <td>6.9</td>\n",
       "      <td>NaN</td>\n",
       "      <td>22457.0</td>\n",
       "      <td>22171.0</td>\n",
       "    </tr>\n",
       "    <tr>\n",
       "      <th>8</th>\n",
       "      <td>Professional, scientific, and management, and ...</td>\n",
       "      <td>77,245</td>\n",
       "      <td>20.20%</td>\n",
       "      <td>51,813</td>\n",
       "      <td>16.1</td>\n",
       "      <td>NaN</td>\n",
       "      <td>77245.0</td>\n",
       "      <td>51813.0</td>\n",
       "    </tr>\n",
       "    <tr>\n",
       "      <th>9</th>\n",
       "      <td>Educational services, and health care and soci...</td>\n",
       "      <td>89,398</td>\n",
       "      <td>23.40%</td>\n",
       "      <td>69,507</td>\n",
       "      <td>21.6</td>\n",
       "      <td>NaN</td>\n",
       "      <td>89398.0</td>\n",
       "      <td>69507.0</td>\n",
       "    </tr>\n",
       "    <tr>\n",
       "      <th>10</th>\n",
       "      <td>Arts, entertainment, and recreation, and accom...</td>\n",
       "      <td>43,958</td>\n",
       "      <td>11.50%</td>\n",
       "      <td>31,762</td>\n",
       "      <td>9.9</td>\n",
       "      <td>NaN</td>\n",
       "      <td>43958.0</td>\n",
       "      <td>31762.0</td>\n",
       "    </tr>\n",
       "    <tr>\n",
       "      <th>11</th>\n",
       "      <td>Other services, except public administration</td>\n",
       "      <td>19,256</td>\n",
       "      <td>5.00%</td>\n",
       "      <td>15,538</td>\n",
       "      <td>4.8</td>\n",
       "      <td>NaN</td>\n",
       "      <td>19256.0</td>\n",
       "      <td>15538.0</td>\n",
       "    </tr>\n",
       "    <tr>\n",
       "      <th>12</th>\n",
       "      <td>Public administration</td>\n",
       "      <td>12,436</td>\n",
       "      <td>3.30%</td>\n",
       "      <td>11,202</td>\n",
       "      <td>3.5</td>\n",
       "      <td>NaN</td>\n",
       "      <td>12436.0</td>\n",
       "      <td>11202.0</td>\n",
       "    </tr>\n",
       "  </tbody>\n",
       "</table>\n",
       "</div>"
      ],
      "text/plain": [
       "                                             INDUSTRY 2015Number 2015Percent  \\\n",
       "0   Agriculture, forestry, fishing and hunting, an...      1,642       0.40%   \n",
       "1                                        Construction     11,438       3.00%   \n",
       "2                                       Manufacturing     25,962       6.80%   \n",
       "3                                     Wholesale trade      7,432       1.90%   \n",
       "4                                        Retail trade     44,417      11.60%   \n",
       "5       Transportation and warehousing, and utilities     12,049       3.10%   \n",
       "6                                         Information     14,829       3.90%   \n",
       "7   Finance and insurance, and real estate and ren...     22,457       5.90%   \n",
       "8   Professional, scientific, and management, and ...     77,245      20.20%   \n",
       "9   Educational services, and health care and soci...     89,398      23.40%   \n",
       "10  Arts, entertainment, and recreation, and accom...     43,958      11.50%   \n",
       "11       Other services, except public administration     19,256       5.00%   \n",
       "12                              Public administration     12,436       3.30%   \n",
       "\n",
       "   2000Number  2000Percent  Unnamed: 5    15num    00num  \n",
       "0       1,103          0.3         NaN   1642.0   1103.0  \n",
       "1      12,892          4.0         NaN  11438.0  12892.0  \n",
       "2      26,753          8.3         NaN  25962.0  26753.0  \n",
       "3      10,471          3.3         NaN   7432.0  10471.0  \n",
       "4      35,645         11.1         NaN  44417.0  35645.0  \n",
       "5      13,492          4.2         NaN  12049.0  13492.0  \n",
       "6      19,175          6.0         NaN  14829.0  19175.0  \n",
       "7      22,171          6.9         NaN  22457.0  22171.0  \n",
       "8      51,813         16.1         NaN  77245.0  51813.0  \n",
       "9      69,507         21.6         NaN  89398.0  69507.0  \n",
       "10     31,762          9.9         NaN  43958.0  31762.0  \n",
       "11     15,538          4.8         NaN  19256.0  15538.0  \n",
       "12     11,202          3.5         NaN  12436.0  11202.0  "
      ]
     },
     "execution_count": 6,
     "metadata": {},
     "output_type": "execute_result"
    }
   ],
   "source": [
    "Seattle"
   ]
  },
  {
   "cell_type": "code",
   "execution_count": 7,
   "metadata": {
    "collapsed": true
   },
   "outputs": [],
   "source": [
    "Seattle['diff'] = Seattle['15num']-Seattle['00num']"
   ]
  },
  {
   "cell_type": "code",
   "execution_count": 8,
   "metadata": {
    "collapsed": true
   },
   "outputs": [],
   "source": [
    "Seattle['change'] = (Seattle['15num']-Seattle['00num'])/Seattle['00num']"
   ]
  },
  {
   "cell_type": "code",
   "execution_count": 9,
   "metadata": {
    "collapsed": false
   },
   "outputs": [
    {
     "data": {
      "text/html": [
       "<div>\n",
       "<style>\n",
       "    .dataframe thead tr:only-child th {\n",
       "        text-align: right;\n",
       "    }\n",
       "\n",
       "    .dataframe thead th {\n",
       "        text-align: left;\n",
       "    }\n",
       "\n",
       "    .dataframe tbody tr th {\n",
       "        vertical-align: top;\n",
       "    }\n",
       "</style>\n",
       "<table border=\"1\" class=\"dataframe\">\n",
       "  <thead>\n",
       "    <tr style=\"text-align: right;\">\n",
       "      <th></th>\n",
       "      <th>INDUSTRY</th>\n",
       "      <th>2015Number</th>\n",
       "      <th>2015Percent</th>\n",
       "      <th>2000Number</th>\n",
       "      <th>2000Percent</th>\n",
       "      <th>Unnamed: 5</th>\n",
       "      <th>15num</th>\n",
       "      <th>00num</th>\n",
       "      <th>diff</th>\n",
       "      <th>change</th>\n",
       "    </tr>\n",
       "  </thead>\n",
       "  <tbody>\n",
       "    <tr>\n",
       "      <th>0</th>\n",
       "      <td>Agriculture, forestry, fishing and hunting, an...</td>\n",
       "      <td>1,642</td>\n",
       "      <td>0.40%</td>\n",
       "      <td>1,103</td>\n",
       "      <td>0.3</td>\n",
       "      <td>NaN</td>\n",
       "      <td>1642.0</td>\n",
       "      <td>1103.0</td>\n",
       "      <td>539.0</td>\n",
       "      <td>0.488667</td>\n",
       "    </tr>\n",
       "    <tr>\n",
       "      <th>1</th>\n",
       "      <td>Construction</td>\n",
       "      <td>11,438</td>\n",
       "      <td>3.00%</td>\n",
       "      <td>12,892</td>\n",
       "      <td>4.0</td>\n",
       "      <td>NaN</td>\n",
       "      <td>11438.0</td>\n",
       "      <td>12892.0</td>\n",
       "      <td>-1454.0</td>\n",
       "      <td>-0.112783</td>\n",
       "    </tr>\n",
       "    <tr>\n",
       "      <th>2</th>\n",
       "      <td>Manufacturing</td>\n",
       "      <td>25,962</td>\n",
       "      <td>6.80%</td>\n",
       "      <td>26,753</td>\n",
       "      <td>8.3</td>\n",
       "      <td>NaN</td>\n",
       "      <td>25962.0</td>\n",
       "      <td>26753.0</td>\n",
       "      <td>-791.0</td>\n",
       "      <td>-0.029567</td>\n",
       "    </tr>\n",
       "    <tr>\n",
       "      <th>3</th>\n",
       "      <td>Wholesale trade</td>\n",
       "      <td>7,432</td>\n",
       "      <td>1.90%</td>\n",
       "      <td>10,471</td>\n",
       "      <td>3.3</td>\n",
       "      <td>NaN</td>\n",
       "      <td>7432.0</td>\n",
       "      <td>10471.0</td>\n",
       "      <td>-3039.0</td>\n",
       "      <td>-0.290230</td>\n",
       "    </tr>\n",
       "    <tr>\n",
       "      <th>4</th>\n",
       "      <td>Retail trade</td>\n",
       "      <td>44,417</td>\n",
       "      <td>11.60%</td>\n",
       "      <td>35,645</td>\n",
       "      <td>11.1</td>\n",
       "      <td>NaN</td>\n",
       "      <td>44417.0</td>\n",
       "      <td>35645.0</td>\n",
       "      <td>8772.0</td>\n",
       "      <td>0.246093</td>\n",
       "    </tr>\n",
       "    <tr>\n",
       "      <th>5</th>\n",
       "      <td>Transportation and warehousing, and utilities</td>\n",
       "      <td>12,049</td>\n",
       "      <td>3.10%</td>\n",
       "      <td>13,492</td>\n",
       "      <td>4.2</td>\n",
       "      <td>NaN</td>\n",
       "      <td>12049.0</td>\n",
       "      <td>13492.0</td>\n",
       "      <td>-1443.0</td>\n",
       "      <td>-0.106952</td>\n",
       "    </tr>\n",
       "    <tr>\n",
       "      <th>6</th>\n",
       "      <td>Information</td>\n",
       "      <td>14,829</td>\n",
       "      <td>3.90%</td>\n",
       "      <td>19,175</td>\n",
       "      <td>6.0</td>\n",
       "      <td>NaN</td>\n",
       "      <td>14829.0</td>\n",
       "      <td>19175.0</td>\n",
       "      <td>-4346.0</td>\n",
       "      <td>-0.226649</td>\n",
       "    </tr>\n",
       "    <tr>\n",
       "      <th>7</th>\n",
       "      <td>Finance and insurance, and real estate and ren...</td>\n",
       "      <td>22,457</td>\n",
       "      <td>5.90%</td>\n",
       "      <td>22,171</td>\n",
       "      <td>6.9</td>\n",
       "      <td>NaN</td>\n",
       "      <td>22457.0</td>\n",
       "      <td>22171.0</td>\n",
       "      <td>286.0</td>\n",
       "      <td>0.012900</td>\n",
       "    </tr>\n",
       "    <tr>\n",
       "      <th>8</th>\n",
       "      <td>Professional, scientific, and management, and ...</td>\n",
       "      <td>77,245</td>\n",
       "      <td>20.20%</td>\n",
       "      <td>51,813</td>\n",
       "      <td>16.1</td>\n",
       "      <td>NaN</td>\n",
       "      <td>77245.0</td>\n",
       "      <td>51813.0</td>\n",
       "      <td>25432.0</td>\n",
       "      <td>0.490842</td>\n",
       "    </tr>\n",
       "    <tr>\n",
       "      <th>9</th>\n",
       "      <td>Educational services, and health care and soci...</td>\n",
       "      <td>89,398</td>\n",
       "      <td>23.40%</td>\n",
       "      <td>69,507</td>\n",
       "      <td>21.6</td>\n",
       "      <td>NaN</td>\n",
       "      <td>89398.0</td>\n",
       "      <td>69507.0</td>\n",
       "      <td>19891.0</td>\n",
       "      <td>0.286173</td>\n",
       "    </tr>\n",
       "    <tr>\n",
       "      <th>10</th>\n",
       "      <td>Arts, entertainment, and recreation, and accom...</td>\n",
       "      <td>43,958</td>\n",
       "      <td>11.50%</td>\n",
       "      <td>31,762</td>\n",
       "      <td>9.9</td>\n",
       "      <td>NaN</td>\n",
       "      <td>43958.0</td>\n",
       "      <td>31762.0</td>\n",
       "      <td>12196.0</td>\n",
       "      <td>0.383981</td>\n",
       "    </tr>\n",
       "    <tr>\n",
       "      <th>11</th>\n",
       "      <td>Other services, except public administration</td>\n",
       "      <td>19,256</td>\n",
       "      <td>5.00%</td>\n",
       "      <td>15,538</td>\n",
       "      <td>4.8</td>\n",
       "      <td>NaN</td>\n",
       "      <td>19256.0</td>\n",
       "      <td>15538.0</td>\n",
       "      <td>3718.0</td>\n",
       "      <td>0.239284</td>\n",
       "    </tr>\n",
       "    <tr>\n",
       "      <th>12</th>\n",
       "      <td>Public administration</td>\n",
       "      <td>12,436</td>\n",
       "      <td>3.30%</td>\n",
       "      <td>11,202</td>\n",
       "      <td>3.5</td>\n",
       "      <td>NaN</td>\n",
       "      <td>12436.0</td>\n",
       "      <td>11202.0</td>\n",
       "      <td>1234.0</td>\n",
       "      <td>0.110159</td>\n",
       "    </tr>\n",
       "  </tbody>\n",
       "</table>\n",
       "</div>"
      ],
      "text/plain": [
       "                                             INDUSTRY 2015Number 2015Percent  \\\n",
       "0   Agriculture, forestry, fishing and hunting, an...      1,642       0.40%   \n",
       "1                                        Construction     11,438       3.00%   \n",
       "2                                       Manufacturing     25,962       6.80%   \n",
       "3                                     Wholesale trade      7,432       1.90%   \n",
       "4                                        Retail trade     44,417      11.60%   \n",
       "5       Transportation and warehousing, and utilities     12,049       3.10%   \n",
       "6                                         Information     14,829       3.90%   \n",
       "7   Finance and insurance, and real estate and ren...     22,457       5.90%   \n",
       "8   Professional, scientific, and management, and ...     77,245      20.20%   \n",
       "9   Educational services, and health care and soci...     89,398      23.40%   \n",
       "10  Arts, entertainment, and recreation, and accom...     43,958      11.50%   \n",
       "11       Other services, except public administration     19,256       5.00%   \n",
       "12                              Public administration     12,436       3.30%   \n",
       "\n",
       "   2000Number  2000Percent  Unnamed: 5    15num    00num     diff    change  \n",
       "0       1,103          0.3         NaN   1642.0   1103.0    539.0  0.488667  \n",
       "1      12,892          4.0         NaN  11438.0  12892.0  -1454.0 -0.112783  \n",
       "2      26,753          8.3         NaN  25962.0  26753.0   -791.0 -0.029567  \n",
       "3      10,471          3.3         NaN   7432.0  10471.0  -3039.0 -0.290230  \n",
       "4      35,645         11.1         NaN  44417.0  35645.0   8772.0  0.246093  \n",
       "5      13,492          4.2         NaN  12049.0  13492.0  -1443.0 -0.106952  \n",
       "6      19,175          6.0         NaN  14829.0  19175.0  -4346.0 -0.226649  \n",
       "7      22,171          6.9         NaN  22457.0  22171.0    286.0  0.012900  \n",
       "8      51,813         16.1         NaN  77245.0  51813.0  25432.0  0.490842  \n",
       "9      69,507         21.6         NaN  89398.0  69507.0  19891.0  0.286173  \n",
       "10     31,762          9.9         NaN  43958.0  31762.0  12196.0  0.383981  \n",
       "11     15,538          4.8         NaN  19256.0  15538.0   3718.0  0.239284  \n",
       "12     11,202          3.5         NaN  12436.0  11202.0   1234.0  0.110159  "
      ]
     },
     "execution_count": 9,
     "metadata": {},
     "output_type": "execute_result"
    }
   ],
   "source": [
    "Seattle"
   ]
  },
  {
   "cell_type": "code",
   "execution_count": 10,
   "metadata": {
    "collapsed": true
   },
   "outputs": [],
   "source": [
    "df = pd.DataFrame({'Industry': Seattle['INDUSTRY'], 'Change': Seattle['diff']})"
   ]
  },
  {
   "cell_type": "code",
   "execution_count": 11,
   "metadata": {
    "collapsed": false
   },
   "outputs": [
    {
     "data": {
      "text/html": [
       "<div>\n",
       "<style>\n",
       "    .dataframe thead tr:only-child th {\n",
       "        text-align: right;\n",
       "    }\n",
       "\n",
       "    .dataframe thead th {\n",
       "        text-align: left;\n",
       "    }\n",
       "\n",
       "    .dataframe tbody tr th {\n",
       "        vertical-align: top;\n",
       "    }\n",
       "</style>\n",
       "<table border=\"1\" class=\"dataframe\">\n",
       "  <thead>\n",
       "    <tr style=\"text-align: right;\">\n",
       "      <th></th>\n",
       "      <th>Change</th>\n",
       "      <th>Industry</th>\n",
       "    </tr>\n",
       "  </thead>\n",
       "  <tbody>\n",
       "    <tr>\n",
       "      <th>0</th>\n",
       "      <td>539.0</td>\n",
       "      <td>Agriculture, forestry, fishing and hunting, an...</td>\n",
       "    </tr>\n",
       "    <tr>\n",
       "      <th>1</th>\n",
       "      <td>-1454.0</td>\n",
       "      <td>Construction</td>\n",
       "    </tr>\n",
       "    <tr>\n",
       "      <th>2</th>\n",
       "      <td>-791.0</td>\n",
       "      <td>Manufacturing</td>\n",
       "    </tr>\n",
       "    <tr>\n",
       "      <th>3</th>\n",
       "      <td>-3039.0</td>\n",
       "      <td>Wholesale trade</td>\n",
       "    </tr>\n",
       "    <tr>\n",
       "      <th>4</th>\n",
       "      <td>8772.0</td>\n",
       "      <td>Retail trade</td>\n",
       "    </tr>\n",
       "    <tr>\n",
       "      <th>5</th>\n",
       "      <td>-1443.0</td>\n",
       "      <td>Transportation and warehousing, and utilities</td>\n",
       "    </tr>\n",
       "    <tr>\n",
       "      <th>6</th>\n",
       "      <td>-4346.0</td>\n",
       "      <td>Information</td>\n",
       "    </tr>\n",
       "    <tr>\n",
       "      <th>7</th>\n",
       "      <td>286.0</td>\n",
       "      <td>Finance and insurance, and real estate and ren...</td>\n",
       "    </tr>\n",
       "    <tr>\n",
       "      <th>8</th>\n",
       "      <td>25432.0</td>\n",
       "      <td>Professional, scientific, and management, and ...</td>\n",
       "    </tr>\n",
       "    <tr>\n",
       "      <th>9</th>\n",
       "      <td>19891.0</td>\n",
       "      <td>Educational services, and health care and soci...</td>\n",
       "    </tr>\n",
       "    <tr>\n",
       "      <th>10</th>\n",
       "      <td>12196.0</td>\n",
       "      <td>Arts, entertainment, and recreation, and accom...</td>\n",
       "    </tr>\n",
       "    <tr>\n",
       "      <th>11</th>\n",
       "      <td>3718.0</td>\n",
       "      <td>Other services, except public administration</td>\n",
       "    </tr>\n",
       "    <tr>\n",
       "      <th>12</th>\n",
       "      <td>1234.0</td>\n",
       "      <td>Public administration</td>\n",
       "    </tr>\n",
       "  </tbody>\n",
       "</table>\n",
       "</div>"
      ],
      "text/plain": [
       "     Change                                           Industry\n",
       "0     539.0  Agriculture, forestry, fishing and hunting, an...\n",
       "1   -1454.0                                       Construction\n",
       "2    -791.0                                      Manufacturing\n",
       "3   -3039.0                                    Wholesale trade\n",
       "4    8772.0                                       Retail trade\n",
       "5   -1443.0      Transportation and warehousing, and utilities\n",
       "6   -4346.0                                        Information\n",
       "7     286.0  Finance and insurance, and real estate and ren...\n",
       "8   25432.0  Professional, scientific, and management, and ...\n",
       "9   19891.0  Educational services, and health care and soci...\n",
       "10  12196.0  Arts, entertainment, and recreation, and accom...\n",
       "11   3718.0       Other services, except public administration\n",
       "12   1234.0                              Public administration"
      ]
     },
     "execution_count": 11,
     "metadata": {},
     "output_type": "execute_result"
    }
   ],
   "source": [
    "df"
   ]
  },
  {
   "cell_type": "code",
   "execution_count": 12,
   "metadata": {
    "collapsed": false
   },
   "outputs": [
    {
     "name": "stderr",
     "output_type": "stream",
     "text": [
      "/Users/janinewei/anaconda/lib/python3.5/site-packages/ipykernel/__main__.py:1: DeprecationWarning: \n",
      ".ix is deprecated. Please use\n",
      ".loc for label based indexing or\n",
      ".iloc for positional indexing\n",
      "\n",
      "See the documentation here:\n",
      "http://pandas.pydata.org/pandas-docs/stable/indexing.html#ix-indexer-is-deprecated\n",
      "  if __name__ == '__main__':\n"
     ]
    }
   ],
   "source": [
    "df.ix[7, 'Industry'] = \"Finance, Insurance, and Real Estate\""
   ]
  },
  {
   "cell_type": "code",
   "execution_count": 13,
   "metadata": {
    "collapsed": false
   },
   "outputs": [
    {
     "data": {
      "text/plain": [
       "'Agriculture, forestry, fishing and hunting, and mining'"
      ]
     },
     "execution_count": 13,
     "metadata": {},
     "output_type": "execute_result"
    }
   ],
   "source": [
    "df.ix[0, 'Industry']"
   ]
  },
  {
   "cell_type": "code",
   "execution_count": 14,
   "metadata": {
    "collapsed": true
   },
   "outputs": [],
   "source": [
    "df.ix[0, 'Industry'] = \"Agriculture\""
   ]
  },
  {
   "cell_type": "code",
   "execution_count": 15,
   "metadata": {
    "collapsed": true
   },
   "outputs": [],
   "source": [
    "df.ix[9, 'Industry'] = \"Educational,Healthcare and Social Assistance\""
   ]
  },
  {
   "cell_type": "code",
   "execution_count": 16,
   "metadata": {
    "collapsed": true
   },
   "outputs": [],
   "source": [
    "df.ix[10, 'Industry'] = \"Arts, Recreation and Food Services\""
   ]
  },
  {
   "cell_type": "code",
   "execution_count": 17,
   "metadata": {
    "collapsed": true
   },
   "outputs": [],
   "source": [
    "df.ix[8, 'Industry'] = \"Professional, Scientific and management\""
   ]
  },
  {
   "cell_type": "code",
   "execution_count": null,
   "metadata": {
    "collapsed": true
   },
   "outputs": [],
   "source": []
  },
  {
   "cell_type": "code",
   "execution_count": 18,
   "metadata": {
    "collapsed": false
   },
   "outputs": [],
   "source": [
    "plt.rcdefaults()\n",
    "fig, ax = plt.subplots()"
   ]
  },
  {
   "cell_type": "code",
   "execution_count": 19,
   "metadata": {
    "collapsed": false
   },
   "outputs": [
    {
     "data": {
      "text/plain": [
       "0       539.0\n",
       "1     -1454.0\n",
       "2      -791.0\n",
       "3     -3039.0\n",
       "4      8772.0\n",
       "5     -1443.0\n",
       "6     -4346.0\n",
       "7       286.0\n",
       "8     25432.0\n",
       "9     19891.0\n",
       "10    12196.0\n",
       "11     3718.0\n",
       "12     1234.0\n",
       "Name: Change, dtype: float64"
      ]
     },
     "execution_count": 19,
     "metadata": {},
     "output_type": "execute_result"
    }
   ],
   "source": [
    "df['Change']"
   ]
  },
  {
   "cell_type": "code",
   "execution_count": 20,
   "metadata": {
    "collapsed": true
   },
   "outputs": [],
   "source": [
    "people = ('Tom', 'Dick', 'Harry', 'Slim', 'Jim')\n",
    "y_pos = np.arange(len(people))\n",
    "error = np.random.rand(len(people))"
   ]
  },
  {
   "cell_type": "code",
   "execution_count": 21,
   "metadata": {
    "collapsed": false
   },
   "outputs": [],
   "source": [
    "Industry = df['Industry']"
   ]
  },
  {
   "cell_type": "code",
   "execution_count": 22,
   "metadata": {
    "collapsed": true
   },
   "outputs": [],
   "source": [
    "y_pos = np.arange(len(Industry))"
   ]
  },
  {
   "cell_type": "code",
   "execution_count": 23,
   "metadata": {
    "collapsed": true
   },
   "outputs": [],
   "source": [
    "performance = df['Change']"
   ]
  },
  {
   "cell_type": "code",
   "execution_count": 24,
   "metadata": {
    "collapsed": true
   },
   "outputs": [],
   "source": [
    "error = np.random.rand(len(Industry))"
   ]
  },
  {
   "cell_type": "code",
   "execution_count": 25,
   "metadata": {
    "collapsed": false
   },
   "outputs": [
    {
     "data": {
      "text/plain": [
       "<Container object of 13 artists>"
      ]
     },
     "execution_count": 25,
     "metadata": {},
     "output_type": "execute_result"
    }
   ],
   "source": [
    "ax.barh(y_pos, performance, xerr=error, align='center',color='green', ecolor='black')"
   ]
  },
  {
   "cell_type": "code",
   "execution_count": 26,
   "metadata": {
    "collapsed": true
   },
   "outputs": [],
   "source": [
    "plt.style.use('ggplot')"
   ]
  },
  {
   "cell_type": "code",
   "execution_count": 27,
   "metadata": {
    "collapsed": false
   },
   "outputs": [],
   "source": [
    "ax.set_yticks(y_pos)\n",
    "ax.set_yticklabels(Industry, fontsize=8)\n",
    "ax.invert_yaxis()  # labels read top-to-bottom\n",
    "ax.set_xlabel('Change')\n",
    "ax.get_yaxis().set_tick_params(which='both', direction='in')\n",
    "ax.get_xaxis().set_tick_params(which='both', direction='in')"
   ]
  },
  {
   "cell_type": "code",
   "execution_count": 28,
   "metadata": {
    "collapsed": false,
    "scrolled": true
   },
   "outputs": [
    {
     "data": {
      "image/png": "[encoded data removed]",
      "text/plain": [
       "<matplotlib.figure.Figure at 0x1195acfd0>"
      ]
     },
     "metadata": {},
     "output_type": "display_data"
    }
   ],
   "source": [
    "plt.show()"
   ]
  },
  {
   "cell_type": "code",
   "execution_count": 29,
   "metadata": {
    "collapsed": false
   },
   "outputs": [
    {
     "ename": "ImportError",
     "evalue": "No module named 'cenpy'",
     "output_type": "error",
     "traceback": [
      "\u001b[0;31m---------------------------------------------------------------------------\u001b[0m",
      "\u001b[0;31mImportError\u001b[0m                               Traceback (most recent call last)",
      "\u001b[0;32m<ipython-input-29-926160d19a3e>\u001b[0m in \u001b[0;36m<module>\u001b[0;34m()\u001b[0m\n\u001b[0;32m----> 1\u001b[0;31m \u001b[0;32mimport\u001b[0m \u001b[0mcenpy\u001b[0m \u001b[0;32mas\u001b[0m \u001b[0mc\u001b[0m\u001b[0;34m\u001b[0m\u001b[0m\n\u001b[0m\u001b[1;32m      2\u001b[0m \u001b[0;32mimport\u001b[0m \u001b[0mpandas\u001b[0m\u001b[0;34m\u001b[0m\u001b[0m\n",
      "\u001b[0;31mImportError\u001b[0m: No module named 'cenpy'"
     ]
    }
   ],
   "source": [
    "import cenpy as c\n",
    "import pandas"
   ]
  },
  {
   "cell_type": "code",
   "execution_count": null,
   "metadata": {
    "collapsed": true
   },
   "outputs": [],
   "source": []
  },
  {
   "cell_type": "code",
   "execution_count": null,
   "metadata": {
    "collapsed": true
   },
   "outputs": [],
   "source": []
  },
  {
   "cell_type": "code",
   "execution_count": null,
   "metadata": {
    "collapsed": true
   },
   "outputs": [],
   "source": []
  }
 ],
 "metadata": {
  "anaconda-cloud": {},
  "kernelspec": {
   "display_name": "Python 3",
   "language": "python",
   "name": "python3"
  },
  "language_info": {
   "codemirror_mode": {
    "name": "ipython",
    "version": 3
   },
   "file_extension": ".py",
   "mimetype": "text/x-python",
   "name": "python",
   "nbconvert_exporter": "python",
   "pygments_lexer": "ipython3",
   "version": "3.6.1"
  }
 },
 "nbformat": 4,
 "nbformat_minor": 0
}
